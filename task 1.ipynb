{
 "cells": [
  {
   "cell_type": "code",
   "execution_count": 2,
   "id": "c1a580f0",
   "metadata": {
    "scrolled": true
   },
   "outputs": [
    {
     "name": "stdout",
     "output_type": "stream",
     "text": [
      "Menu: Tender Coconut Water, Price: ₹50\n",
      "Menu: Whole Wheat Parathas (3pcs), Price: ₹57\n",
      "Menu: Badam Kheer, Price: ₹67\n",
      "Menu: Spicy Dilli Kulcha Burger, Price: ₹169\n",
      "Menu: Creamy Pesto Sauce Penne Pasta, Price: ₹254\n",
      "Menu: Poha, Price: ₹118\n",
      "Menu: Fruit Pop Oatmeal, Price: ₹177\n",
      "Menu: Peri Peri Sauce Penne Pasta, Price: ₹237\n",
      "Menu: Yellow Dal Tadka, Bhindi Chana & Jeera Pulao, Price: ₹194\n",
      "Menu: Kadhai Chicken, Soya Masala Sabzi & Jeera Pulao, Price: ₹288\n",
      "\n",
      "Data has been saved to menu_data1.csv\n"
     ]
    }
   ],
   "source": [
    "import requests\n",
    "from bs4 import BeautifulSoup\n",
    "import csv\n",
    "\n",
    "url = 'https://magicpin.in/New-Delhi/Paharganj/Restaurant/Eatfit/store/61a193/menu'\n",
    "\n",
    "# Send a GET request to the URL\n",
    "response = requests.get(url)\n",
    "\n",
    "# Check if the request was successful (status code 200)\n",
    "if response.status_code == 200:\n",
    "    # Parse the HTML content of the page\n",
    "    soup = BeautifulSoup(response.text, 'html.parser')\n",
    "\n",
    "    # Locate the HTML elements containing menu and price information\n",
    "    menu_items = soup.find_all('p', class_='item-name')\n",
    "    prices = soup.find_all('span', class_='actual-price')\n",
    "\n",
    "    # Create a list to store the data\n",
    "    data = []\n",
    "\n",
    "    # Collect the menu and price data\n",
    "    for menu, price in zip(menu_items, prices):\n",
    "        menu_text = menu.text.strip()\n",
    "        price_text = price.text.strip()\n",
    "        data.append([menu_text, price_text])\n",
    "\n",
    "    # Output the results\n",
    "    for menu, price in data:\n",
    "        print(f\"Menu: {menu}, Price: {price}\")\n",
    "\n",
    "    # Save the data to a CSV file\n",
    "    csv_filename = 'menu_data1.csv'\n",
    "    with open(csv_filename, 'w', newline='') as csvfile:\n",
    "        csv_writer = csv.writer(csvfile)\n",
    "        # Write header\n",
    "        csv_writer.writerow(['Menu', 'Price'])\n",
    "        # Write data\n",
    "        csv_writer.writerows(data)\n",
    "\n",
    "    print(f\"\\nData has been saved to {csv_filename}\")\n",
    "\n",
    "else:\n",
    "    print(f\"Failed to retrieve the page. Status Code: {response.status_code}\")\n"
   ]
  }
 ],
 "metadata": {
  "kernelspec": {
   "display_name": "Python 3",
   "language": "python",
   "name": "python3"
  },
  "language_info": {
   "codemirror_mode": {
    "name": "ipython",
    "version": 3
   },
   "file_extension": ".py",
   "mimetype": "text/x-python",
   "name": "python",
   "nbconvert_exporter": "python",
   "pygments_lexer": "ipython3",
   "version": "3.8.8"
  }
 },
 "nbformat": 4,
 "nbformat_minor": 5
}
