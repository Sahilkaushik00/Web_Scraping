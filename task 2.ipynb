{
 "cells": [
  {
   "cell_type": "code",
   "execution_count": null,
   "id": "3634e6b9",
   "metadata": {},
   "outputs": [],
   "source": [
    "!pip uninstall autoscraper"
   ]
  },
  {
   "cell_type": "code",
   "execution_count": null,
   "id": "90422ddd",
   "metadata": {},
   "outputs": [],
   "source": [
    "from autoscraper import AutoScraper\n",
    "url=\"https://www.amazon.in/s?k=iphones\"\n",
    "wanted_list=[\"₹1,61,990\",\"₹1,64,900\"]"
   ]
  },
  {
   "cell_type": "code",
   "execution_count": null,
   "id": "8489cc53",
   "metadata": {},
   "outputs": [],
   "source": [
    "scraper=AutoScraper()\n",
    "res=scraper.build(url,wanted_list)\n",
    "print(res)\n",
    "scraper.get_similar_result(\"https://www.amazon.in/s?k=iphones\")\n",
    "\n",
    "import csv\n",
    "from autoscraper import AutoScraper\n",
    "\n",
    "url = \"https://www.amazon.in/s?k=iphones\"\n",
    "wanted_list = [\"1,61,990\", \"1,64,900\"]  # Adjusted to be more flexible\n",
    "\n",
    "scraper = AutoScraper()\n",
    "result = scraper.build(url, wanted_list)\n",
    "\n",
    "# Use the scraper to get the data from the webpage\n",
    "data = scraper.get_result_similar(url)\n",
    "\n",
    "# Save the data to a CSV file\n",
    "csv_file_path = \"scraped_data.csv\"\n",
    "header = [\"Discounted Price\", \"Actual Price\"]\n",
    "\n",
    "with open(csv_file_path, mode=\"w\", newline=\"\", encoding=\"utf-8\") as csv_file:\n",
    "    csv_writer = csv.writer(csv_file)\n",
    "    \n",
    "    # Write the header\n",
    "    csv_writer.writerow(header)\n",
    "    \n",
    "    # Write the data\n",
    "    for discounted_price, actual_price in zip(data[::2], data[1::2]):\n",
    "        csv_writer.writerow([discounted_price, actual_price])\n",
    "\n",
    "print(f\"Scraped data has been saved to {csv_file_path}\")\n"
   ]
  }
 ],
 "metadata": {
  "kernelspec": {
   "display_name": "Python 3",
   "language": "python",
   "name": "python3"
  },
  "language_info": {
   "codemirror_mode": {
    "name": "ipython",
    "version": 3
   },
   "file_extension": ".py",
   "mimetype": "text/x-python",
   "name": "python",
   "nbconvert_exporter": "python",
   "pygments_lexer": "ipython3",
   "version": "3.8.8"
  }
 },
 "nbformat": 4,
 "nbformat_minor": 5
}
